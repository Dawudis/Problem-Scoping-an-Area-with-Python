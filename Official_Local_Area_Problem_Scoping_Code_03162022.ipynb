{
  "nbformat": 4,
  "nbformat_minor": 0,
  "metadata": {
    "colab": {
      "name": "Official Local Area Problem Scoping Code 03162022",
      "provenance": [],
      "collapsed_sections": [],
      "authorship_tag": "ABX9TyNTRr8XuG39GqFgh5nbh1TA",
      "include_colab_link": true
    },
    "kernelspec": {
      "name": "python3",
      "display_name": "Python 3"
    },
    "language_info": {
      "name": "python"
    }
  },
  "cells": [
    {
      "cell_type": "markdown",
      "metadata": {
        "id": "view-in-github",
        "colab_type": "text"
      },
      "source": [
        "<a href=\"https://colab.research.google.com/github/Dawudis/Problem-Scoping-an-Area-with-Python/blob/main/Official_Local_Area_Problem_Scoping_Code_03162022.ipynb\" target=\"_parent\"><img src=\"https://colab.research.google.com/assets/colab-badge.svg\" alt=\"Open In Colab\"/></a>"
      ]
    },
    {
      "cell_type": "markdown",
      "source": [
        "# **Scrape Articles Using Newspaper and news-please**"
      ],
      "metadata": {
        "id": "IPrLXDHnGVUZ"
      }
    },
    {
      "cell_type": "code",
      "execution_count": null,
      "metadata": {
        "id": "689ypsc5nSZ4"
      },
      "outputs": [],
      "source": [
        "!pip install newspaper3k\n",
        "import newspaper\n",
        "from newspaper import Article"
      ]
    },
    {
      "cell_type": "code",
      "source": [
        "import nltk\n",
        "nltk.download('punkt')"
      ],
      "metadata": {
        "id": "tfltS7K-n72G"
      },
      "execution_count": null,
      "outputs": []
    },
    {
      "cell_type": "markdown",
      "source": [
        "I want to problem scope the great city of Houston. To do this, I am going to scrape Houston's newspaper 'The Houston Chronicle' for any news that might help us."
      ],
      "metadata": {
        "id": "rZJN8KKJSLIY"
      }
    },
    {
      "cell_type": "code",
      "source": [
        "site = newspaper.build(\"https://www.houstonchronicle.com/news/houston-texas/\")  "
      ],
      "metadata": {
        "id": "iv5ccLaSn9T3"
      },
      "execution_count": 3,
      "outputs": []
    },
    {
      "cell_type": "code",
      "source": [
        "urls = site.article_urls()"
      ],
      "metadata": {
        "id": "RpkipgChBMwH"
      },
      "execution_count": 4,
      "outputs": []
    },
    {
      "cell_type": "code",
      "source": [
        "urls"
      ],
      "metadata": {
        "id": "_FiuqNBMx2bl",
        "colab": {
          "base_uri": "https://localhost:8080/"
        },
        "outputId": "c3e2aaaa-3e77-43c5-ca00-b8d11003d971"
      },
      "execution_count": 5,
      "outputs": [
        {
          "output_type": "execute_result",
          "data": {
            "text/plain": [
              "['https://www.houstonchronicle.com/news/houston-texas/#content',\n",
              " 'https://www.houstonchronicle.com/news/houston-texas/',\n",
              " 'https://www.houstonchronicle.com/news/houston-texas/houston/',\n",
              " 'https://www.houstonchronicle.com/news/houston-texas/education/',\n",
              " 'https://www.houstonchronicle.com/news/houston-texas/texas/',\n",
              " 'https://www.houstonchronicle.com/news/houston-texas/environment/',\n",
              " 'https://www.houstonchronicle.com/news/houston-texas/health/',\n",
              " 'https://www.houstonchronicle.com/news/investigations/',\n",
              " 'https://www.houstonchronicle.com/news/houston-texas/crime/',\n",
              " 'https://www.houstonchronicle.com/news/houston-texas/transportation/',\n",
              " 'https://www.houstonchronicle.com/news/houston-texas/immigration/',\n",
              " 'https://www.houstonchronicle.com/news/houston-weather/',\n",
              " 'https://www.houstonchronicle.com/news/houston-texas/religion/',\n",
              " 'https://www.houstonchronicle.com/news/houston-texas/space/',\n",
              " 'https://www.houstonchronicle.com/news/houston-texas/trending/',\n",
              " 'https://www.houstonchronicle.com/news/houston-texas/galveston/',\n",
              " 'https://preview.houstonchronicle.com/classical/a-classical-music-concert-that-shreds-welcome-to-17033433',\n",
              " 'https://preview.houstonchronicle.com/classical/houston-symphony-gives-young-composers-an-earshot-17033337',\n",
              " 'https://preview.houstonchronicle.com/movies-tv/oscars-will-smith-s-onstage-slap-of-chris-rock-17032758',\n",
              " 'https://preview.houstonchronicle.com/books/alex-segura-among-the-authors-at-houston-book-17029488',\n",
              " 'https://preview.houstonchronicle.com/movies-tv/here-are-the-winners-of-the-94th-annual-academy-17032789',\n",
              " 'https://preview.houstonchronicle.com/art-exhibits/bun-b-to-serve-as-art-car-parade-grand-marshal-17028480',\n",
              " 'https://preview.houstonchronicle.com/music/prince-royce-is-bringing-classic-hits-to-the-17028733',\n",
              " 'https://preview.houstonchronicle.com/special-events/turkey-leg-hut-festival-john-mulaney-top-the-17023971',\n",
              " 'https://houstonchronicle.com/news/houston-texas/',\n",
              " 'https://houstonchronicle.com/news/houston-texas/houston/',\n",
              " 'https://houstonchronicle.com/news/houston-texas/education/',\n",
              " 'https://houstonchronicle.com/news/houston-texas/texas/',\n",
              " 'https://houstonchronicle.com/news/houston-texas/environment/',\n",
              " 'https://houstonchronicle.com/news/houston-texas/health/',\n",
              " 'https://houstonchronicle.com/news/investigations/',\n",
              " 'https://houstonchronicle.com/news/houston-weather/',\n",
              " 'https://houstonchronicle.com/news/interactives/',\n",
              " 'https://houstonchronicle.com/news/houston-texas/transportation/',\n",
              " 'https://www.houstonchronicle.com/news/interactives/',\n",
              " 'https://www.houstonchronicle.com/projects/2022/visuals/houston-cougars-arizona-ncaa-sweet-16/',\n",
              " 'https://www.houstonchronicle.com/projects/2022/visuals/houston-black-historic-figures-civil-rights/',\n",
              " 'https://www.houstonchronicle.com/projects/2022/haiti-odyssey-texas-migrants/',\n",
              " 'https://www.houstonchronicle.com/news/houston-texas/bayou-city-history/',\n",
              " 'https://houstonchronicle.com/news/houston-texas/bayou-city-history/',\n",
              " 'https://preview.houstonchronicle.com/event/special-events/beyond-the-rhetoric-civil-rights-our-shared-responsibility/',\n",
              " 'https://preview.houstonchronicle.com/music/imagine-dragons-bring-mercury-world-tour-to-17028716',\n",
              " 'https://preview.houstonchronicle.com/movies-tv/apollo-10-1-2-infinite-storm-17022000',\n",
              " 'https://preview.houstonchronicle.com/movies-tv/everything-about-2022-oscars-snubs-controversy-17032010',\n",
              " 'https://preview.houstonchronicle.com/movies-tv/the-oscars-are-sunday-here-s-how-to-watch-the-17031996',\n",
              " 'https://preview.houstonchronicle.com/movies-tv/review-naomi-watts-can-t-rescue-the-listless-17028469',\n",
              " 'https://preview.houstonchronicle.com/music/new-edition-tyler-the-creator-top-the-list-of-17023539',\n",
              " 'https://preview.houstonchronicle.com/music/i-love-the-90s-tour-with-vanilla-ice-coolio-17020492',\n",
              " 'https://preview.houstonchronicle.com/music/premiere-houston-band-the-wheel-workers-17020401',\n",
              " 'https://preview.houstonchronicle.com/theater/houston-playwright-s-anger-over-mother-s-17027111',\n",
              " 'https://preview.houstonchronicle.com/theater/houston-theatergoers-can-t-escape-playwright-17024679',\n",
              " 'https://preview.houstonchronicle.com/theater/review-what-the-world-needs-now-is-come-from-17023928',\n",
              " 'https://preview.houstonchronicle.com/classical/goodbye-europe-chad-robinson-returned-to-houston-17012656',\n",
              " 'https://preview.houstonchronicle.com/classical/oom-pah-houston-symphony-puts-the-tuba-in-the-17012608',\n",
              " 'https://preview.houstonchronicle.com/books/charles-oakley-talks-about-his-new-memoir-the-17029487',\n",
              " 'https://preview.houstonchronicle.com/books/after-racking-up-awards-queer-coming-of-age-17001899',\n",
              " 'https://preview.houstonchronicle.com/books/lawyer-drops-new-novel-catch-her-when-she-17004719',\n",
              " 'https://preview.houstonchronicle.com/families/what-s-an-instrument-petting-zoo-find-out-at-17019890',\n",
              " 'https://preview.houstonchronicle.com/families/bayou-city-art-festival-houston-holi-top-family-17021797',\n",
              " 'https://preview.houstonchronicle.com/families/rodeo-houston-carnival-water-play-at-kinder-lake-17004674',\n",
              " 'https://preview.houstonchronicle.com/rodeo/george-strait-closes-a-standout-rodeohouston-17016918',\n",
              " 'https://preview.houstonchronicle.com/rodeo/rodeo-review-brad-paisley-honors-ukraine-at-14-17014504',\n",
              " 'https://preview.houstonchronicle.com/rodeo/rodeo-review-marshmello-draws-a-huge-17013304',\n",
              " 'https://preview.houstonchronicle.com/special-events/tonight-root-for-uh-cougars-at-downtown-s-17026294',\n",
              " 'https://preview.houstonchronicle.com/special-events/bun-b-s-trill-burgers-gets-its-first-17011516',\n",
              " 'https://preview.houstonchronicle.com/dining/burger-friday-watershed-restaurant-and-pub-in-15855753',\n",
              " 'https://preview.houstonchronicle.com/dining/burger-friday-disappointment-at-goode-company-15794827',\n",
              " 'https://preview.houstonchronicle.com/dining/burger-friday-prince-s-hamburgers-at-15776236',\n",
              " 'https://preview.houstonchronicle.com/dining/burger-friday-beefy-excellence-at-local-group-15758126',\n",
              " 'https://preview.houstonchronicle.com/dining/alison-cook-s-burger-friday-red-dwarf-in-15742582',\n",
              " 'https://preview.houstonchronicle.com/dining/alison-cook-s-burger-friday-cheeseburger-pizza-15722090',\n",
              " 'https://www.houstonchronicle.com/projects/2020/map-coronavirus-testing-near-me/',\n",
              " 'https://www.houstonchronicle.com/projects/2020/texas-shutdown-covid-timeline',\n",
              " 'https://preview.houstonchronicle.com/music/after-postponing-willie-nelson-cancels-houston-16972653',\n",
              " 'https://www.houstonchronicle.com/projects/2022/houston-texas-voter-guide-election-candidates/']"
            ]
          },
          "metadata": {},
          "execution_count": 5
        }
      ]
    },
    {
      "cell_type": "code",
      "source": [
        "import pandas as pd"
      ],
      "metadata": {
        "id": "8Qhp7TlpCZli"
      },
      "execution_count": 6,
      "outputs": []
    },
    {
      "cell_type": "markdown",
      "source": [
        "Import urls into dataframe 'df'"
      ],
      "metadata": {
        "id": "uOIC-Rflpwek"
      }
    },
    {
      "cell_type": "code",
      "source": [
        "df = pd.DataFrame(urls, columns = ['web_url'])"
      ],
      "metadata": {
        "id": "dlU-ZSa1CRYT"
      },
      "execution_count": 7,
      "outputs": []
    },
    {
      "cell_type": "markdown",
      "source": [
        "We want to remove any defective links, so we append only the urls that have a status code of 200"
      ],
      "metadata": {
        "id": "ujP37LtapusE"
      }
    },
    {
      "cell_type": "code",
      "source": [
        "import requests"
      ],
      "metadata": {
        "id": "wT78vQ_gC-NF"
      },
      "execution_count": 8,
      "outputs": []
    },
    {
      "cell_type": "code",
      "source": [
        "new_urls = []\n",
        "for i in df['web_url']:\n",
        "  if requests.head(i).status_code == 200:\n",
        "    new_urls.append(i)"
      ],
      "metadata": {
        "id": "eIA4Q3-9ytmU"
      },
      "execution_count": 9,
      "outputs": []
    },
    {
      "cell_type": "markdown",
      "source": [
        "We put these urls into a dataframe 'df1'"
      ],
      "metadata": {
        "id": "X0HCZIgPp8qO"
      }
    },
    {
      "cell_type": "code",
      "source": [
        "df1 = pd.DataFrame(new_urls, columns= ['new_urls'])\n",
        "df1.head()"
      ],
      "metadata": {
        "id": "BSKWfpFz0es6",
        "colab": {
          "base_uri": "https://localhost:8080/",
          "height": 206
        },
        "outputId": "b9ad78bf-e521-4c00-f424-0f2c8b89e34b"
      },
      "execution_count": 10,
      "outputs": [
        {
          "output_type": "execute_result",
          "data": {
            "text/plain": [
              "                                            new_urls\n",
              "0  https://www.houstonchronicle.com/news/houston-...\n",
              "1  https://www.houstonchronicle.com/news/houston-...\n",
              "2  https://www.houstonchronicle.com/news/houston-...\n",
              "3  https://www.houstonchronicle.com/news/houston-...\n",
              "4  https://www.houstonchronicle.com/news/houston-..."
            ],
            "text/html": [
              "\n",
              "  <div id=\"df-7a2d3549-f600-408b-9737-7e26a0ac766e\">\n",
              "    <div class=\"colab-df-container\">\n",
              "      <div>\n",
              "<style scoped>\n",
              "    .dataframe tbody tr th:only-of-type {\n",
              "        vertical-align: middle;\n",
              "    }\n",
              "\n",
              "    .dataframe tbody tr th {\n",
              "        vertical-align: top;\n",
              "    }\n",
              "\n",
              "    .dataframe thead th {\n",
              "        text-align: right;\n",
              "    }\n",
              "</style>\n",
              "<table border=\"1\" class=\"dataframe\">\n",
              "  <thead>\n",
              "    <tr style=\"text-align: right;\">\n",
              "      <th></th>\n",
              "      <th>new_urls</th>\n",
              "    </tr>\n",
              "  </thead>\n",
              "  <tbody>\n",
              "    <tr>\n",
              "      <th>0</th>\n",
              "      <td>https://www.houstonchronicle.com/news/houston-...</td>\n",
              "    </tr>\n",
              "    <tr>\n",
              "      <th>1</th>\n",
              "      <td>https://www.houstonchronicle.com/news/houston-...</td>\n",
              "    </tr>\n",
              "    <tr>\n",
              "      <th>2</th>\n",
              "      <td>https://www.houstonchronicle.com/news/houston-...</td>\n",
              "    </tr>\n",
              "    <tr>\n",
              "      <th>3</th>\n",
              "      <td>https://www.houstonchronicle.com/news/houston-...</td>\n",
              "    </tr>\n",
              "    <tr>\n",
              "      <th>4</th>\n",
              "      <td>https://www.houstonchronicle.com/news/houston-...</td>\n",
              "    </tr>\n",
              "  </tbody>\n",
              "</table>\n",
              "</div>\n",
              "      <button class=\"colab-df-convert\" onclick=\"convertToInteractive('df-7a2d3549-f600-408b-9737-7e26a0ac766e')\"\n",
              "              title=\"Convert this dataframe to an interactive table.\"\n",
              "              style=\"display:none;\">\n",
              "        \n",
              "  <svg xmlns=\"http://www.w3.org/2000/svg\" height=\"24px\"viewBox=\"0 0 24 24\"\n",
              "       width=\"24px\">\n",
              "    <path d=\"M0 0h24v24H0V0z\" fill=\"none\"/>\n",
              "    <path d=\"M18.56 5.44l.94 2.06.94-2.06 2.06-.94-2.06-.94-.94-2.06-.94 2.06-2.06.94zm-11 1L8.5 8.5l.94-2.06 2.06-.94-2.06-.94L8.5 2.5l-.94 2.06-2.06.94zm10 10l.94 2.06.94-2.06 2.06-.94-2.06-.94-.94-2.06-.94 2.06-2.06.94z\"/><path d=\"M17.41 7.96l-1.37-1.37c-.4-.4-.92-.59-1.43-.59-.52 0-1.04.2-1.43.59L10.3 9.45l-7.72 7.72c-.78.78-.78 2.05 0 2.83L4 21.41c.39.39.9.59 1.41.59.51 0 1.02-.2 1.41-.59l7.78-7.78 2.81-2.81c.8-.78.8-2.07 0-2.86zM5.41 20L4 18.59l7.72-7.72 1.47 1.35L5.41 20z\"/>\n",
              "  </svg>\n",
              "      </button>\n",
              "      \n",
              "  <style>\n",
              "    .colab-df-container {\n",
              "      display:flex;\n",
              "      flex-wrap:wrap;\n",
              "      gap: 12px;\n",
              "    }\n",
              "\n",
              "    .colab-df-convert {\n",
              "      background-color: #E8F0FE;\n",
              "      border: none;\n",
              "      border-radius: 50%;\n",
              "      cursor: pointer;\n",
              "      display: none;\n",
              "      fill: #1967D2;\n",
              "      height: 32px;\n",
              "      padding: 0 0 0 0;\n",
              "      width: 32px;\n",
              "    }\n",
              "\n",
              "    .colab-df-convert:hover {\n",
              "      background-color: #E2EBFA;\n",
              "      box-shadow: 0px 1px 2px rgba(60, 64, 67, 0.3), 0px 1px 3px 1px rgba(60, 64, 67, 0.15);\n",
              "      fill: #174EA6;\n",
              "    }\n",
              "\n",
              "    [theme=dark] .colab-df-convert {\n",
              "      background-color: #3B4455;\n",
              "      fill: #D2E3FC;\n",
              "    }\n",
              "\n",
              "    [theme=dark] .colab-df-convert:hover {\n",
              "      background-color: #434B5C;\n",
              "      box-shadow: 0px 1px 3px 1px rgba(0, 0, 0, 0.15);\n",
              "      filter: drop-shadow(0px 1px 2px rgba(0, 0, 0, 0.3));\n",
              "      fill: #FFFFFF;\n",
              "    }\n",
              "  </style>\n",
              "\n",
              "      <script>\n",
              "        const buttonEl =\n",
              "          document.querySelector('#df-7a2d3549-f600-408b-9737-7e26a0ac766e button.colab-df-convert');\n",
              "        buttonEl.style.display =\n",
              "          google.colab.kernel.accessAllowed ? 'block' : 'none';\n",
              "\n",
              "        async function convertToInteractive(key) {\n",
              "          const element = document.querySelector('#df-7a2d3549-f600-408b-9737-7e26a0ac766e');\n",
              "          const dataTable =\n",
              "            await google.colab.kernel.invokeFunction('convertToInteractive',\n",
              "                                                     [key], {});\n",
              "          if (!dataTable) return;\n",
              "\n",
              "          const docLinkHtml = 'Like what you see? Visit the ' +\n",
              "            '<a target=\"_blank\" href=https://colab.research.google.com/notebooks/data_table.ipynb>data table notebook</a>'\n",
              "            + ' to learn more about interactive tables.';\n",
              "          element.innerHTML = '';\n",
              "          dataTable['output_type'] = 'display_data';\n",
              "          await google.colab.output.renderOutput(dataTable, element);\n",
              "          const docLink = document.createElement('div');\n",
              "          docLink.innerHTML = docLinkHtml;\n",
              "          element.appendChild(docLink);\n",
              "        }\n",
              "      </script>\n",
              "    </div>\n",
              "  </div>\n",
              "  "
            ]
          },
          "metadata": {},
          "execution_count": 10
        }
      ]
    },
    {
      "cell_type": "markdown",
      "source": [
        "We use the 'news-please' crawler to extract the maintext from the article urls"
      ],
      "metadata": {
        "id": "zbnrRtCuqVaE"
      }
    },
    {
      "cell_type": "code",
      "source": [
        "!pip3 install news-please\n",
        "from newsplease import NewsPlease"
      ],
      "metadata": {
        "id": "c2NI5L7dpKSt"
      },
      "execution_count": null,
      "outputs": []
    },
    {
      "cell_type": "code",
      "source": [
        "#scrape the urls and get the main text\n",
        "article_texts = []\n",
        "for i in df1[\"new_urls\"]:\n",
        "  article_texts.append(NewsPlease.from_url(i).maintext)"
      ],
      "metadata": {
        "id": "4Ee_mrHzDbbx"
      },
      "execution_count": 12,
      "outputs": []
    },
    {
      "cell_type": "markdown",
      "source": [
        "We create a column 'articles' within the same dataset for the article text"
      ],
      "metadata": {
        "id": "xCZEoCLWqimc"
      }
    },
    {
      "cell_type": "code",
      "source": [
        "df1['articles'] = pd.DataFrame(article_texts)"
      ],
      "metadata": {
        "id": "XaUYCgmSpODT"
      },
      "execution_count": 13,
      "outputs": []
    },
    {
      "cell_type": "markdown",
      "source": [
        "We drop any missing values from the dataframe and assign it to 'data'"
      ],
      "metadata": {
        "id": "Eaiaulbqqqqz"
      }
    },
    {
      "cell_type": "code",
      "source": [
        "data = df1.dropna()"
      ],
      "metadata": {
        "id": "9D3jnlAuXM82"
      },
      "execution_count": 14,
      "outputs": []
    },
    {
      "cell_type": "markdown",
      "source": [
        "# **Extractive Summarization**"
      ],
      "metadata": {
        "id": "MKSmJuv3sFac"
      }
    },
    {
      "cell_type": "markdown",
      "source": [
        "Since the article texts would be too big for analysis, we want an extractive summary for each text and assign this to 'article_summaries' column"
      ],
      "metadata": {
        "id": "9olHkQFrrw3Z"
      }
    },
    {
      "cell_type": "code",
      "source": [
        "!pip install bert-extractive-summarizer\n",
        "from summarizer import Summarizer\n",
        "model = Summarizer()"
      ],
      "metadata": {
        "id": "P7B24LsRtuRD"
      },
      "execution_count": null,
      "outputs": []
    },
    {
      "cell_type": "code",
      "source": [
        "result = []\n",
        "for i in data['articles']:\n",
        "  result.append(model(i))"
      ],
      "metadata": {
        "id": "B7kXi0kPsd3V"
      },
      "execution_count": 16,
      "outputs": []
    },
    {
      "cell_type": "code",
      "source": [
        "data['article_summaries'] = pd.DataFrame(result)"
      ],
      "metadata": {
        "id": "AmTE5dbqF4mp"
      },
      "execution_count": 17,
      "outputs": []
    },
    {
      "cell_type": "code",
      "source": [
        "data"
      ],
      "metadata": {
        "id": "48_krf9ylCEC",
        "colab": {
          "base_uri": "https://localhost:8080/",
          "height": 424
        },
        "outputId": "3400f9ca-555b-4fb0-d0d6-ce65924b4380"
      },
      "execution_count": 18,
      "outputs": [
        {
          "output_type": "execute_result",
          "data": {
            "text/plain": [
              "                                             new_urls  \\\n",
              "0   https://www.houstonchronicle.com/news/houston-...   \n",
              "1   https://www.houstonchronicle.com/news/houston-...   \n",
              "2   https://www.houstonchronicle.com/news/houston-...   \n",
              "3   https://www.houstonchronicle.com/news/houston-...   \n",
              "4   https://www.houstonchronicle.com/news/houston-...   \n",
              "..                                                ...   \n",
              "56  https://preview.houstonchronicle.com/dining/al...   \n",
              "57  https://preview.houstonchronicle.com/dining/al...   \n",
              "58  https://www.houstonchronicle.com/projects/2020...   \n",
              "59  https://preview.houstonchronicle.com/music/aft...   \n",
              "60  https://www.houstonchronicle.com/projects/2022...   \n",
              "\n",
              "                                             articles  \\\n",
              "0   The woman got into a fight with another woman ...   \n",
              "1   The woman got into a fight with another woman ...   \n",
              "2   A vehicle hit the couple around 9:30 p.m. in t...   \n",
              "3   This Texas college produces some the highest-p...   \n",
              "4   NEW YORK (AP) — Shares of Tesla jumped at the ...   \n",
              "..                                                ...   \n",
              "56  Comeback Cheeseburger at Red Dwarf Photo: Alis...   \n",
              "57  The new Cheeseburger Pizza from Domino’s Photo...   \n",
              "58  About\\nThis project will update daily.\\nData i...   \n",
              "59  Willie Nelson has canceled a Houston show afte...   \n",
              "60  A comprehensive survey of the candidates and k...   \n",
              "\n",
              "                                    article_summaries  \n",
              "0   The woman got into a fight with another woman ...  \n",
              "1   The woman got into a fight with another woman ...  \n",
              "2   A vehicle hit the couple around 9:30 p.m. in t...  \n",
              "3   This Texas college produces some the highest-p...  \n",
              "4   NEW YORK (AP) — Shares of Tesla jumped at the ...  \n",
              "..                                                ...  \n",
              "56  Comeback Cheeseburger at Red Dwarf Photo: Alis...  \n",
              "57  The new Cheeseburger Pizza from Domino’s Photo...  \n",
              "58  Data is from URISA’s GISCorps, Coders Against ...  \n",
              "59  Willie Nelson has canceled a Houston show afte...  \n",
              "60  A comprehensive survey of the candidates and k...  \n",
              "\n",
              "[61 rows x 3 columns]"
            ],
            "text/html": [
              "\n",
              "  <div id=\"df-716a4d24-2efa-4867-8029-5a598c760081\">\n",
              "    <div class=\"colab-df-container\">\n",
              "      <div>\n",
              "<style scoped>\n",
              "    .dataframe tbody tr th:only-of-type {\n",
              "        vertical-align: middle;\n",
              "    }\n",
              "\n",
              "    .dataframe tbody tr th {\n",
              "        vertical-align: top;\n",
              "    }\n",
              "\n",
              "    .dataframe thead th {\n",
              "        text-align: right;\n",
              "    }\n",
              "</style>\n",
              "<table border=\"1\" class=\"dataframe\">\n",
              "  <thead>\n",
              "    <tr style=\"text-align: right;\">\n",
              "      <th></th>\n",
              "      <th>new_urls</th>\n",
              "      <th>articles</th>\n",
              "      <th>article_summaries</th>\n",
              "    </tr>\n",
              "  </thead>\n",
              "  <tbody>\n",
              "    <tr>\n",
              "      <th>0</th>\n",
              "      <td>https://www.houstonchronicle.com/news/houston-...</td>\n",
              "      <td>The woman got into a fight with another woman ...</td>\n",
              "      <td>The woman got into a fight with another woman ...</td>\n",
              "    </tr>\n",
              "    <tr>\n",
              "      <th>1</th>\n",
              "      <td>https://www.houstonchronicle.com/news/houston-...</td>\n",
              "      <td>The woman got into a fight with another woman ...</td>\n",
              "      <td>The woman got into a fight with another woman ...</td>\n",
              "    </tr>\n",
              "    <tr>\n",
              "      <th>2</th>\n",
              "      <td>https://www.houstonchronicle.com/news/houston-...</td>\n",
              "      <td>A vehicle hit the couple around 9:30 p.m. in t...</td>\n",
              "      <td>A vehicle hit the couple around 9:30 p.m. in t...</td>\n",
              "    </tr>\n",
              "    <tr>\n",
              "      <th>3</th>\n",
              "      <td>https://www.houstonchronicle.com/news/houston-...</td>\n",
              "      <td>This Texas college produces some the highest-p...</td>\n",
              "      <td>This Texas college produces some the highest-p...</td>\n",
              "    </tr>\n",
              "    <tr>\n",
              "      <th>4</th>\n",
              "      <td>https://www.houstonchronicle.com/news/houston-...</td>\n",
              "      <td>NEW YORK (AP) — Shares of Tesla jumped at the ...</td>\n",
              "      <td>NEW YORK (AP) — Shares of Tesla jumped at the ...</td>\n",
              "    </tr>\n",
              "    <tr>\n",
              "      <th>...</th>\n",
              "      <td>...</td>\n",
              "      <td>...</td>\n",
              "      <td>...</td>\n",
              "    </tr>\n",
              "    <tr>\n",
              "      <th>56</th>\n",
              "      <td>https://preview.houstonchronicle.com/dining/al...</td>\n",
              "      <td>Comeback Cheeseburger at Red Dwarf Photo: Alis...</td>\n",
              "      <td>Comeback Cheeseburger at Red Dwarf Photo: Alis...</td>\n",
              "    </tr>\n",
              "    <tr>\n",
              "      <th>57</th>\n",
              "      <td>https://preview.houstonchronicle.com/dining/al...</td>\n",
              "      <td>The new Cheeseburger Pizza from Domino’s Photo...</td>\n",
              "      <td>The new Cheeseburger Pizza from Domino’s Photo...</td>\n",
              "    </tr>\n",
              "    <tr>\n",
              "      <th>58</th>\n",
              "      <td>https://www.houstonchronicle.com/projects/2020...</td>\n",
              "      <td>About\\nThis project will update daily.\\nData i...</td>\n",
              "      <td>Data is from URISA’s GISCorps, Coders Against ...</td>\n",
              "    </tr>\n",
              "    <tr>\n",
              "      <th>59</th>\n",
              "      <td>https://preview.houstonchronicle.com/music/aft...</td>\n",
              "      <td>Willie Nelson has canceled a Houston show afte...</td>\n",
              "      <td>Willie Nelson has canceled a Houston show afte...</td>\n",
              "    </tr>\n",
              "    <tr>\n",
              "      <th>60</th>\n",
              "      <td>https://www.houstonchronicle.com/projects/2022...</td>\n",
              "      <td>A comprehensive survey of the candidates and k...</td>\n",
              "      <td>A comprehensive survey of the candidates and k...</td>\n",
              "    </tr>\n",
              "  </tbody>\n",
              "</table>\n",
              "<p>61 rows × 3 columns</p>\n",
              "</div>\n",
              "      <button class=\"colab-df-convert\" onclick=\"convertToInteractive('df-716a4d24-2efa-4867-8029-5a598c760081')\"\n",
              "              title=\"Convert this dataframe to an interactive table.\"\n",
              "              style=\"display:none;\">\n",
              "        \n",
              "  <svg xmlns=\"http://www.w3.org/2000/svg\" height=\"24px\"viewBox=\"0 0 24 24\"\n",
              "       width=\"24px\">\n",
              "    <path d=\"M0 0h24v24H0V0z\" fill=\"none\"/>\n",
              "    <path d=\"M18.56 5.44l.94 2.06.94-2.06 2.06-.94-2.06-.94-.94-2.06-.94 2.06-2.06.94zm-11 1L8.5 8.5l.94-2.06 2.06-.94-2.06-.94L8.5 2.5l-.94 2.06-2.06.94zm10 10l.94 2.06.94-2.06 2.06-.94-2.06-.94-.94-2.06-.94 2.06-2.06.94z\"/><path d=\"M17.41 7.96l-1.37-1.37c-.4-.4-.92-.59-1.43-.59-.52 0-1.04.2-1.43.59L10.3 9.45l-7.72 7.72c-.78.78-.78 2.05 0 2.83L4 21.41c.39.39.9.59 1.41.59.51 0 1.02-.2 1.41-.59l7.78-7.78 2.81-2.81c.8-.78.8-2.07 0-2.86zM5.41 20L4 18.59l7.72-7.72 1.47 1.35L5.41 20z\"/>\n",
              "  </svg>\n",
              "      </button>\n",
              "      \n",
              "  <style>\n",
              "    .colab-df-container {\n",
              "      display:flex;\n",
              "      flex-wrap:wrap;\n",
              "      gap: 12px;\n",
              "    }\n",
              "\n",
              "    .colab-df-convert {\n",
              "      background-color: #E8F0FE;\n",
              "      border: none;\n",
              "      border-radius: 50%;\n",
              "      cursor: pointer;\n",
              "      display: none;\n",
              "      fill: #1967D2;\n",
              "      height: 32px;\n",
              "      padding: 0 0 0 0;\n",
              "      width: 32px;\n",
              "    }\n",
              "\n",
              "    .colab-df-convert:hover {\n",
              "      background-color: #E2EBFA;\n",
              "      box-shadow: 0px 1px 2px rgba(60, 64, 67, 0.3), 0px 1px 3px 1px rgba(60, 64, 67, 0.15);\n",
              "      fill: #174EA6;\n",
              "    }\n",
              "\n",
              "    [theme=dark] .colab-df-convert {\n",
              "      background-color: #3B4455;\n",
              "      fill: #D2E3FC;\n",
              "    }\n",
              "\n",
              "    [theme=dark] .colab-df-convert:hover {\n",
              "      background-color: #434B5C;\n",
              "      box-shadow: 0px 1px 3px 1px rgba(0, 0, 0, 0.15);\n",
              "      filter: drop-shadow(0px 1px 2px rgba(0, 0, 0, 0.3));\n",
              "      fill: #FFFFFF;\n",
              "    }\n",
              "  </style>\n",
              "\n",
              "      <script>\n",
              "        const buttonEl =\n",
              "          document.querySelector('#df-716a4d24-2efa-4867-8029-5a598c760081 button.colab-df-convert');\n",
              "        buttonEl.style.display =\n",
              "          google.colab.kernel.accessAllowed ? 'block' : 'none';\n",
              "\n",
              "        async function convertToInteractive(key) {\n",
              "          const element = document.querySelector('#df-716a4d24-2efa-4867-8029-5a598c760081');\n",
              "          const dataTable =\n",
              "            await google.colab.kernel.invokeFunction('convertToInteractive',\n",
              "                                                     [key], {});\n",
              "          if (!dataTable) return;\n",
              "\n",
              "          const docLinkHtml = 'Like what you see? Visit the ' +\n",
              "            '<a target=\"_blank\" href=https://colab.research.google.com/notebooks/data_table.ipynb>data table notebook</a>'\n",
              "            + ' to learn more about interactive tables.';\n",
              "          element.innerHTML = '';\n",
              "          dataTable['output_type'] = 'display_data';\n",
              "          await google.colab.output.renderOutput(dataTable, element);\n",
              "          const docLink = document.createElement('div');\n",
              "          docLink.innerHTML = docLinkHtml;\n",
              "          element.appendChild(docLink);\n",
              "        }\n",
              "      </script>\n",
              "    </div>\n",
              "  </div>\n",
              "  "
            ]
          },
          "metadata": {},
          "execution_count": 18
        }
      ]
    },
    {
      "cell_type": "code",
      "source": [
        "data = data.dropna()"
      ],
      "metadata": {
        "id": "r__PcXfarfnj"
      },
      "execution_count": 19,
      "outputs": []
    },
    {
      "cell_type": "code",
      "source": [
        "data"
      ],
      "metadata": {
        "id": "UbrAERazwsEK",
        "colab": {
          "base_uri": "https://localhost:8080/",
          "height": 424
        },
        "outputId": "6fc1de4f-267c-467b-fb47-a1feb077b531"
      },
      "execution_count": 20,
      "outputs": [
        {
          "output_type": "execute_result",
          "data": {
            "text/plain": [
              "                                             new_urls  \\\n",
              "0   https://www.houstonchronicle.com/news/houston-...   \n",
              "1   https://www.houstonchronicle.com/news/houston-...   \n",
              "2   https://www.houstonchronicle.com/news/houston-...   \n",
              "3   https://www.houstonchronicle.com/news/houston-...   \n",
              "4   https://www.houstonchronicle.com/news/houston-...   \n",
              "..                                                ...   \n",
              "56  https://preview.houstonchronicle.com/dining/al...   \n",
              "57  https://preview.houstonchronicle.com/dining/al...   \n",
              "58  https://www.houstonchronicle.com/projects/2020...   \n",
              "59  https://preview.houstonchronicle.com/music/aft...   \n",
              "60  https://www.houstonchronicle.com/projects/2022...   \n",
              "\n",
              "                                             articles  \\\n",
              "0   The woman got into a fight with another woman ...   \n",
              "1   The woman got into a fight with another woman ...   \n",
              "2   A vehicle hit the couple around 9:30 p.m. in t...   \n",
              "3   This Texas college produces some the highest-p...   \n",
              "4   NEW YORK (AP) — Shares of Tesla jumped at the ...   \n",
              "..                                                ...   \n",
              "56  Comeback Cheeseburger at Red Dwarf Photo: Alis...   \n",
              "57  The new Cheeseburger Pizza from Domino’s Photo...   \n",
              "58  About\\nThis project will update daily.\\nData i...   \n",
              "59  Willie Nelson has canceled a Houston show afte...   \n",
              "60  A comprehensive survey of the candidates and k...   \n",
              "\n",
              "                                    article_summaries  \n",
              "0   The woman got into a fight with another woman ...  \n",
              "1   The woman got into a fight with another woman ...  \n",
              "2   A vehicle hit the couple around 9:30 p.m. in t...  \n",
              "3   This Texas college produces some the highest-p...  \n",
              "4   NEW YORK (AP) — Shares of Tesla jumped at the ...  \n",
              "..                                                ...  \n",
              "56  Comeback Cheeseburger at Red Dwarf Photo: Alis...  \n",
              "57  The new Cheeseburger Pizza from Domino’s Photo...  \n",
              "58  Data is from URISA’s GISCorps, Coders Against ...  \n",
              "59  Willie Nelson has canceled a Houston show afte...  \n",
              "60  A comprehensive survey of the candidates and k...  \n",
              "\n",
              "[61 rows x 3 columns]"
            ],
            "text/html": [
              "\n",
              "  <div id=\"df-fc79ba16-1f3b-4a6a-ba44-b2211e033a41\">\n",
              "    <div class=\"colab-df-container\">\n",
              "      <div>\n",
              "<style scoped>\n",
              "    .dataframe tbody tr th:only-of-type {\n",
              "        vertical-align: middle;\n",
              "    }\n",
              "\n",
              "    .dataframe tbody tr th {\n",
              "        vertical-align: top;\n",
              "    }\n",
              "\n",
              "    .dataframe thead th {\n",
              "        text-align: right;\n",
              "    }\n",
              "</style>\n",
              "<table border=\"1\" class=\"dataframe\">\n",
              "  <thead>\n",
              "    <tr style=\"text-align: right;\">\n",
              "      <th></th>\n",
              "      <th>new_urls</th>\n",
              "      <th>articles</th>\n",
              "      <th>article_summaries</th>\n",
              "    </tr>\n",
              "  </thead>\n",
              "  <tbody>\n",
              "    <tr>\n",
              "      <th>0</th>\n",
              "      <td>https://www.houstonchronicle.com/news/houston-...</td>\n",
              "      <td>The woman got into a fight with another woman ...</td>\n",
              "      <td>The woman got into a fight with another woman ...</td>\n",
              "    </tr>\n",
              "    <tr>\n",
              "      <th>1</th>\n",
              "      <td>https://www.houstonchronicle.com/news/houston-...</td>\n",
              "      <td>The woman got into a fight with another woman ...</td>\n",
              "      <td>The woman got into a fight with another woman ...</td>\n",
              "    </tr>\n",
              "    <tr>\n",
              "      <th>2</th>\n",
              "      <td>https://www.houstonchronicle.com/news/houston-...</td>\n",
              "      <td>A vehicle hit the couple around 9:30 p.m. in t...</td>\n",
              "      <td>A vehicle hit the couple around 9:30 p.m. in t...</td>\n",
              "    </tr>\n",
              "    <tr>\n",
              "      <th>3</th>\n",
              "      <td>https://www.houstonchronicle.com/news/houston-...</td>\n",
              "      <td>This Texas college produces some the highest-p...</td>\n",
              "      <td>This Texas college produces some the highest-p...</td>\n",
              "    </tr>\n",
              "    <tr>\n",
              "      <th>4</th>\n",
              "      <td>https://www.houstonchronicle.com/news/houston-...</td>\n",
              "      <td>NEW YORK (AP) — Shares of Tesla jumped at the ...</td>\n",
              "      <td>NEW YORK (AP) — Shares of Tesla jumped at the ...</td>\n",
              "    </tr>\n",
              "    <tr>\n",
              "      <th>...</th>\n",
              "      <td>...</td>\n",
              "      <td>...</td>\n",
              "      <td>...</td>\n",
              "    </tr>\n",
              "    <tr>\n",
              "      <th>56</th>\n",
              "      <td>https://preview.houstonchronicle.com/dining/al...</td>\n",
              "      <td>Comeback Cheeseburger at Red Dwarf Photo: Alis...</td>\n",
              "      <td>Comeback Cheeseburger at Red Dwarf Photo: Alis...</td>\n",
              "    </tr>\n",
              "    <tr>\n",
              "      <th>57</th>\n",
              "      <td>https://preview.houstonchronicle.com/dining/al...</td>\n",
              "      <td>The new Cheeseburger Pizza from Domino’s Photo...</td>\n",
              "      <td>The new Cheeseburger Pizza from Domino’s Photo...</td>\n",
              "    </tr>\n",
              "    <tr>\n",
              "      <th>58</th>\n",
              "      <td>https://www.houstonchronicle.com/projects/2020...</td>\n",
              "      <td>About\\nThis project will update daily.\\nData i...</td>\n",
              "      <td>Data is from URISA’s GISCorps, Coders Against ...</td>\n",
              "    </tr>\n",
              "    <tr>\n",
              "      <th>59</th>\n",
              "      <td>https://preview.houstonchronicle.com/music/aft...</td>\n",
              "      <td>Willie Nelson has canceled a Houston show afte...</td>\n",
              "      <td>Willie Nelson has canceled a Houston show afte...</td>\n",
              "    </tr>\n",
              "    <tr>\n",
              "      <th>60</th>\n",
              "      <td>https://www.houstonchronicle.com/projects/2022...</td>\n",
              "      <td>A comprehensive survey of the candidates and k...</td>\n",
              "      <td>A comprehensive survey of the candidates and k...</td>\n",
              "    </tr>\n",
              "  </tbody>\n",
              "</table>\n",
              "<p>61 rows × 3 columns</p>\n",
              "</div>\n",
              "      <button class=\"colab-df-convert\" onclick=\"convertToInteractive('df-fc79ba16-1f3b-4a6a-ba44-b2211e033a41')\"\n",
              "              title=\"Convert this dataframe to an interactive table.\"\n",
              "              style=\"display:none;\">\n",
              "        \n",
              "  <svg xmlns=\"http://www.w3.org/2000/svg\" height=\"24px\"viewBox=\"0 0 24 24\"\n",
              "       width=\"24px\">\n",
              "    <path d=\"M0 0h24v24H0V0z\" fill=\"none\"/>\n",
              "    <path d=\"M18.56 5.44l.94 2.06.94-2.06 2.06-.94-2.06-.94-.94-2.06-.94 2.06-2.06.94zm-11 1L8.5 8.5l.94-2.06 2.06-.94-2.06-.94L8.5 2.5l-.94 2.06-2.06.94zm10 10l.94 2.06.94-2.06 2.06-.94-2.06-.94-.94-2.06-.94 2.06-2.06.94z\"/><path d=\"M17.41 7.96l-1.37-1.37c-.4-.4-.92-.59-1.43-.59-.52 0-1.04.2-1.43.59L10.3 9.45l-7.72 7.72c-.78.78-.78 2.05 0 2.83L4 21.41c.39.39.9.59 1.41.59.51 0 1.02-.2 1.41-.59l7.78-7.78 2.81-2.81c.8-.78.8-2.07 0-2.86zM5.41 20L4 18.59l7.72-7.72 1.47 1.35L5.41 20z\"/>\n",
              "  </svg>\n",
              "      </button>\n",
              "      \n",
              "  <style>\n",
              "    .colab-df-container {\n",
              "      display:flex;\n",
              "      flex-wrap:wrap;\n",
              "      gap: 12px;\n",
              "    }\n",
              "\n",
              "    .colab-df-convert {\n",
              "      background-color: #E8F0FE;\n",
              "      border: none;\n",
              "      border-radius: 50%;\n",
              "      cursor: pointer;\n",
              "      display: none;\n",
              "      fill: #1967D2;\n",
              "      height: 32px;\n",
              "      padding: 0 0 0 0;\n",
              "      width: 32px;\n",
              "    }\n",
              "\n",
              "    .colab-df-convert:hover {\n",
              "      background-color: #E2EBFA;\n",
              "      box-shadow: 0px 1px 2px rgba(60, 64, 67, 0.3), 0px 1px 3px 1px rgba(60, 64, 67, 0.15);\n",
              "      fill: #174EA6;\n",
              "    }\n",
              "\n",
              "    [theme=dark] .colab-df-convert {\n",
              "      background-color: #3B4455;\n",
              "      fill: #D2E3FC;\n",
              "    }\n",
              "\n",
              "    [theme=dark] .colab-df-convert:hover {\n",
              "      background-color: #434B5C;\n",
              "      box-shadow: 0px 1px 3px 1px rgba(0, 0, 0, 0.15);\n",
              "      filter: drop-shadow(0px 1px 2px rgba(0, 0, 0, 0.3));\n",
              "      fill: #FFFFFF;\n",
              "    }\n",
              "  </style>\n",
              "\n",
              "      <script>\n",
              "        const buttonEl =\n",
              "          document.querySelector('#df-fc79ba16-1f3b-4a6a-ba44-b2211e033a41 button.colab-df-convert');\n",
              "        buttonEl.style.display =\n",
              "          google.colab.kernel.accessAllowed ? 'block' : 'none';\n",
              "\n",
              "        async function convertToInteractive(key) {\n",
              "          const element = document.querySelector('#df-fc79ba16-1f3b-4a6a-ba44-b2211e033a41');\n",
              "          const dataTable =\n",
              "            await google.colab.kernel.invokeFunction('convertToInteractive',\n",
              "                                                     [key], {});\n",
              "          if (!dataTable) return;\n",
              "\n",
              "          const docLinkHtml = 'Like what you see? Visit the ' +\n",
              "            '<a target=\"_blank\" href=https://colab.research.google.com/notebooks/data_table.ipynb>data table notebook</a>'\n",
              "            + ' to learn more about interactive tables.';\n",
              "          element.innerHTML = '';\n",
              "          dataTable['output_type'] = 'display_data';\n",
              "          await google.colab.output.renderOutput(dataTable, element);\n",
              "          const docLink = document.createElement('div');\n",
              "          docLink.innerHTML = docLinkHtml;\n",
              "          element.appendChild(docLink);\n",
              "        }\n",
              "      </script>\n",
              "    </div>\n",
              "  </div>\n",
              "  "
            ]
          },
          "metadata": {},
          "execution_count": 20
        }
      ]
    },
    {
      "cell_type": "markdown",
      "source": [
        "# **Sentiment Analysis**"
      ],
      "metadata": {
        "id": "5ERDNgQnGep9"
      }
    },
    {
      "cell_type": "code",
      "source": [
        "!pip install torch==1.8.1+cu111 torchvision==0.9.1+cu111 torchaudio===0.8.1 -f https://download.pytorch.org/whl/torch_stable.html\n",
        "import torch"
      ],
      "metadata": {
        "id": "ky81owF5GhcJ"
      },
      "execution_count": null,
      "outputs": []
    },
    {
      "cell_type": "code",
      "source": [
        "!pip install transformers \n",
        "from transformers import AutoTokenizer, AutoModelForSequenceClassification\n",
        "tokenizer = AutoTokenizer.from_pretrained('nlptown/bert-base-multilingual-uncased-sentiment')\n",
        "model = AutoModelForSequenceClassification.from_pretrained('nlptown/bert-base-multilingual-uncased-sentiment')"
      ],
      "metadata": {
        "id": "MFhJTE4HGnBa"
      },
      "execution_count": null,
      "outputs": []
    },
    {
      "cell_type": "markdown",
      "source": [
        "Define the function to get the sentiment analysis scores"
      ],
      "metadata": {
        "id": "B-J8b3djwCmq"
      }
    },
    {
      "cell_type": "code",
      "source": [
        "def sentiment_score(articles):\n",
        "    tokens = tokenizer.encode(articles, return_tensors='pt')\n",
        "    result = model(tokens)\n",
        "    return int(torch.argmax(result.logits))+1"
      ],
      "metadata": {
        "id": "BFkWasH3GYq5"
      },
      "execution_count": 23,
      "outputs": []
    },
    {
      "cell_type": "markdown",
      "source": [
        "Apply this sentiment function on each article summary and input results into column 'sentiment'"
      ],
      "metadata": {
        "id": "H8VdpuXQwH1-"
      }
    },
    {
      "cell_type": "code",
      "source": [
        "data['sentiment'] = data['article_summaries'].apply(lambda x: sentiment_score(x[:512]))"
      ],
      "metadata": {
        "id": "OJpUpzVeGaQd"
      },
      "execution_count": 24,
      "outputs": []
    },
    {
      "cell_type": "markdown",
      "source": [
        "Drop duplicates"
      ],
      "metadata": {
        "id": "vD4-SgqmHO4Q"
      }
    },
    {
      "cell_type": "code",
      "source": [
        "data = data.drop_duplicates(subset='article_summaries', keep=\"first\")"
      ],
      "metadata": {
        "id": "MwhoivA5lTOL"
      },
      "execution_count": 25,
      "outputs": []
    },
    {
      "cell_type": "code",
      "source": [
        "data.head()"
      ],
      "metadata": {
        "id": "85cD-nZ8m5tf",
        "colab": {
          "base_uri": "https://localhost:8080/",
          "height": 206
        },
        "outputId": "de8d0d22-70a8-4e71-c626-b1a322572dbc"
      },
      "execution_count": 33,
      "outputs": [
        {
          "output_type": "execute_result",
          "data": {
            "text/plain": [
              "                                            new_urls  \\\n",
              "0  https://www.houstonchronicle.com/news/houston-...   \n",
              "2  https://www.houstonchronicle.com/news/houston-...   \n",
              "3  https://www.houstonchronicle.com/news/houston-...   \n",
              "4  https://www.houstonchronicle.com/news/houston-...   \n",
              "5  https://www.houstonchronicle.com/news/houston-...   \n",
              "\n",
              "                                            articles  \\\n",
              "0  The woman got into a fight with another woman ...   \n",
              "2  A vehicle hit the couple around 9:30 p.m. in t...   \n",
              "3  This Texas college produces some the highest-p...   \n",
              "4  NEW YORK (AP) — Shares of Tesla jumped at the ...   \n",
              "5  Meteorologists urged caution Saturday as dry, ...   \n",
              "\n",
              "                                   article_summaries  sentiment  \n",
              "0  The woman got into a fight with another woman ...          1  \n",
              "2  A vehicle hit the couple around 9:30 p.m. in t...          1  \n",
              "3  This Texas college produces some the highest-p...          5  \n",
              "4  NEW YORK (AP) — Shares of Tesla jumped at the ...          1  \n",
              "5  Meteorologists urged caution Saturday as dry, ...          4  "
            ],
            "text/html": [
              "\n",
              "  <div id=\"df-3d232530-285e-4d2f-8672-40f27a234efc\">\n",
              "    <div class=\"colab-df-container\">\n",
              "      <div>\n",
              "<style scoped>\n",
              "    .dataframe tbody tr th:only-of-type {\n",
              "        vertical-align: middle;\n",
              "    }\n",
              "\n",
              "    .dataframe tbody tr th {\n",
              "        vertical-align: top;\n",
              "    }\n",
              "\n",
              "    .dataframe thead th {\n",
              "        text-align: right;\n",
              "    }\n",
              "</style>\n",
              "<table border=\"1\" class=\"dataframe\">\n",
              "  <thead>\n",
              "    <tr style=\"text-align: right;\">\n",
              "      <th></th>\n",
              "      <th>new_urls</th>\n",
              "      <th>articles</th>\n",
              "      <th>article_summaries</th>\n",
              "      <th>sentiment</th>\n",
              "    </tr>\n",
              "  </thead>\n",
              "  <tbody>\n",
              "    <tr>\n",
              "      <th>0</th>\n",
              "      <td>https://www.houstonchronicle.com/news/houston-...</td>\n",
              "      <td>The woman got into a fight with another woman ...</td>\n",
              "      <td>The woman got into a fight with another woman ...</td>\n",
              "      <td>1</td>\n",
              "    </tr>\n",
              "    <tr>\n",
              "      <th>2</th>\n",
              "      <td>https://www.houstonchronicle.com/news/houston-...</td>\n",
              "      <td>A vehicle hit the couple around 9:30 p.m. in t...</td>\n",
              "      <td>A vehicle hit the couple around 9:30 p.m. in t...</td>\n",
              "      <td>1</td>\n",
              "    </tr>\n",
              "    <tr>\n",
              "      <th>3</th>\n",
              "      <td>https://www.houstonchronicle.com/news/houston-...</td>\n",
              "      <td>This Texas college produces some the highest-p...</td>\n",
              "      <td>This Texas college produces some the highest-p...</td>\n",
              "      <td>5</td>\n",
              "    </tr>\n",
              "    <tr>\n",
              "      <th>4</th>\n",
              "      <td>https://www.houstonchronicle.com/news/houston-...</td>\n",
              "      <td>NEW YORK (AP) — Shares of Tesla jumped at the ...</td>\n",
              "      <td>NEW YORK (AP) — Shares of Tesla jumped at the ...</td>\n",
              "      <td>1</td>\n",
              "    </tr>\n",
              "    <tr>\n",
              "      <th>5</th>\n",
              "      <td>https://www.houstonchronicle.com/news/houston-...</td>\n",
              "      <td>Meteorologists urged caution Saturday as dry, ...</td>\n",
              "      <td>Meteorologists urged caution Saturday as dry, ...</td>\n",
              "      <td>4</td>\n",
              "    </tr>\n",
              "  </tbody>\n",
              "</table>\n",
              "</div>\n",
              "      <button class=\"colab-df-convert\" onclick=\"convertToInteractive('df-3d232530-285e-4d2f-8672-40f27a234efc')\"\n",
              "              title=\"Convert this dataframe to an interactive table.\"\n",
              "              style=\"display:none;\">\n",
              "        \n",
              "  <svg xmlns=\"http://www.w3.org/2000/svg\" height=\"24px\"viewBox=\"0 0 24 24\"\n",
              "       width=\"24px\">\n",
              "    <path d=\"M0 0h24v24H0V0z\" fill=\"none\"/>\n",
              "    <path d=\"M18.56 5.44l.94 2.06.94-2.06 2.06-.94-2.06-.94-.94-2.06-.94 2.06-2.06.94zm-11 1L8.5 8.5l.94-2.06 2.06-.94-2.06-.94L8.5 2.5l-.94 2.06-2.06.94zm10 10l.94 2.06.94-2.06 2.06-.94-2.06-.94-.94-2.06-.94 2.06-2.06.94z\"/><path d=\"M17.41 7.96l-1.37-1.37c-.4-.4-.92-.59-1.43-.59-.52 0-1.04.2-1.43.59L10.3 9.45l-7.72 7.72c-.78.78-.78 2.05 0 2.83L4 21.41c.39.39.9.59 1.41.59.51 0 1.02-.2 1.41-.59l7.78-7.78 2.81-2.81c.8-.78.8-2.07 0-2.86zM5.41 20L4 18.59l7.72-7.72 1.47 1.35L5.41 20z\"/>\n",
              "  </svg>\n",
              "      </button>\n",
              "      \n",
              "  <style>\n",
              "    .colab-df-container {\n",
              "      display:flex;\n",
              "      flex-wrap:wrap;\n",
              "      gap: 12px;\n",
              "    }\n",
              "\n",
              "    .colab-df-convert {\n",
              "      background-color: #E8F0FE;\n",
              "      border: none;\n",
              "      border-radius: 50%;\n",
              "      cursor: pointer;\n",
              "      display: none;\n",
              "      fill: #1967D2;\n",
              "      height: 32px;\n",
              "      padding: 0 0 0 0;\n",
              "      width: 32px;\n",
              "    }\n",
              "\n",
              "    .colab-df-convert:hover {\n",
              "      background-color: #E2EBFA;\n",
              "      box-shadow: 0px 1px 2px rgba(60, 64, 67, 0.3), 0px 1px 3px 1px rgba(60, 64, 67, 0.15);\n",
              "      fill: #174EA6;\n",
              "    }\n",
              "\n",
              "    [theme=dark] .colab-df-convert {\n",
              "      background-color: #3B4455;\n",
              "      fill: #D2E3FC;\n",
              "    }\n",
              "\n",
              "    [theme=dark] .colab-df-convert:hover {\n",
              "      background-color: #434B5C;\n",
              "      box-shadow: 0px 1px 3px 1px rgba(0, 0, 0, 0.15);\n",
              "      filter: drop-shadow(0px 1px 2px rgba(0, 0, 0, 0.3));\n",
              "      fill: #FFFFFF;\n",
              "    }\n",
              "  </style>\n",
              "\n",
              "      <script>\n",
              "        const buttonEl =\n",
              "          document.querySelector('#df-3d232530-285e-4d2f-8672-40f27a234efc button.colab-df-convert');\n",
              "        buttonEl.style.display =\n",
              "          google.colab.kernel.accessAllowed ? 'block' : 'none';\n",
              "\n",
              "        async function convertToInteractive(key) {\n",
              "          const element = document.querySelector('#df-3d232530-285e-4d2f-8672-40f27a234efc');\n",
              "          const dataTable =\n",
              "            await google.colab.kernel.invokeFunction('convertToInteractive',\n",
              "                                                     [key], {});\n",
              "          if (!dataTable) return;\n",
              "\n",
              "          const docLinkHtml = 'Like what you see? Visit the ' +\n",
              "            '<a target=\"_blank\" href=https://colab.research.google.com/notebooks/data_table.ipynb>data table notebook</a>'\n",
              "            + ' to learn more about interactive tables.';\n",
              "          element.innerHTML = '';\n",
              "          dataTable['output_type'] = 'display_data';\n",
              "          await google.colab.output.renderOutput(dataTable, element);\n",
              "          const docLink = document.createElement('div');\n",
              "          docLink.innerHTML = docLinkHtml;\n",
              "          element.appendChild(docLink);\n",
              "        }\n",
              "      </script>\n",
              "    </div>\n",
              "  </div>\n",
              "  "
            ]
          },
          "metadata": {},
          "execution_count": 33
        }
      ]
    },
    {
      "cell_type": "markdown",
      "source": [
        "To find what we consider 'problems', we have to filter out the positive inputs. To do this, we simply extract only the rows that have a sentiment score under 3 and input them into a dataframe 'sent'."
      ],
      "metadata": {
        "id": "Lv8l6crmHRIv"
      }
    },
    {
      "cell_type": "code",
      "source": [
        "sent = data[data.sentiment < 3]"
      ],
      "metadata": {
        "id": "aYryXPdZHWhl"
      },
      "execution_count": 27,
      "outputs": []
    },
    {
      "cell_type": "code",
      "source": [
        "sent"
      ],
      "metadata": {
        "id": "Hh8m2rQ9tDiZ",
        "colab": {
          "base_uri": "https://localhost:8080/",
          "height": 394
        },
        "outputId": "dd5feddf-8e94-48ff-c966-cb27a895b33e"
      },
      "execution_count": 28,
      "outputs": [
        {
          "output_type": "execute_result",
          "data": {
            "text/plain": [
              "                                             new_urls  \\\n",
              "0   https://www.houstonchronicle.com/news/houston-...   \n",
              "2   https://www.houstonchronicle.com/news/houston-...   \n",
              "4   https://www.houstonchronicle.com/news/houston-...   \n",
              "6   https://www.houstonchronicle.com/news/houston-...   \n",
              "10  https://www.houstonchronicle.com/news/houston-...   \n",
              "14  https://www.houstonchronicle.com/news/houston-...   \n",
              "29  https://preview.houstonchronicle.com/movies-tv...   \n",
              "30  https://preview.houstonchronicle.com/movies-tv...   \n",
              "31  https://preview.houstonchronicle.com/movies-tv...   \n",
              "44  https://preview.houstonchronicle.com/families/...   \n",
              "59  https://preview.houstonchronicle.com/music/aft...   \n",
              "\n",
              "                                             articles  \\\n",
              "0   The woman got into a fight with another woman ...   \n",
              "2   A vehicle hit the couple around 9:30 p.m. in t...   \n",
              "4   NEW YORK (AP) — Shares of Tesla jumped at the ...   \n",
              "6   Some of Houston's at-risk COVID patients feel ...   \n",
              "10  Fact check: Does Jackson have a record on defu...   \n",
              "14  The FBI started to investigate a tip on Jan. 1...   \n",
              "29  Still from Richard Linklater's \"Apollo 10 1/2\"...   \n",
              "30  FILE - An Oscar statue is pictured underneath ...   \n",
              "31  An Oscar statue sparkles in sunlight on the re...   \n",
              "44  Two participants in the Heights Kids' Day of M...   \n",
              "59  Willie Nelson has canceled a Houston show afte...   \n",
              "\n",
              "                                    article_summaries  sentiment  \n",
              "0   The woman got into a fight with another woman ...          1  \n",
              "2   A vehicle hit the couple around 9:30 p.m. in t...          1  \n",
              "4   NEW YORK (AP) — Shares of Tesla jumped at the ...          1  \n",
              "6   Some of Houston's at-risk COVID patients feel ...          1  \n",
              "10  Fact check: Does Jackson have a record on defu...          1  \n",
              "14  The FBI started to investigate a tip on Jan. 1...          1  \n",
              "29  Still from Richard Linklater's \"Apollo 10 1/2\"...          1  \n",
              "30  FILE - An Oscar statue is pictured underneath ...          1  \n",
              "31  An Oscar statue sparkles in sunlight on the re...          1  \n",
              "44  Two participants in the Heights Kids' Day of M...          1  \n",
              "59  Willie Nelson has canceled a Houston show afte...          1  "
            ],
            "text/html": [
              "\n",
              "  <div id=\"df-70fa40e0-f812-47ce-8bad-44a0911b6e2b\">\n",
              "    <div class=\"colab-df-container\">\n",
              "      <div>\n",
              "<style scoped>\n",
              "    .dataframe tbody tr th:only-of-type {\n",
              "        vertical-align: middle;\n",
              "    }\n",
              "\n",
              "    .dataframe tbody tr th {\n",
              "        vertical-align: top;\n",
              "    }\n",
              "\n",
              "    .dataframe thead th {\n",
              "        text-align: right;\n",
              "    }\n",
              "</style>\n",
              "<table border=\"1\" class=\"dataframe\">\n",
              "  <thead>\n",
              "    <tr style=\"text-align: right;\">\n",
              "      <th></th>\n",
              "      <th>new_urls</th>\n",
              "      <th>articles</th>\n",
              "      <th>article_summaries</th>\n",
              "      <th>sentiment</th>\n",
              "    </tr>\n",
              "  </thead>\n",
              "  <tbody>\n",
              "    <tr>\n",
              "      <th>0</th>\n",
              "      <td>https://www.houstonchronicle.com/news/houston-...</td>\n",
              "      <td>The woman got into a fight with another woman ...</td>\n",
              "      <td>The woman got into a fight with another woman ...</td>\n",
              "      <td>1</td>\n",
              "    </tr>\n",
              "    <tr>\n",
              "      <th>2</th>\n",
              "      <td>https://www.houstonchronicle.com/news/houston-...</td>\n",
              "      <td>A vehicle hit the couple around 9:30 p.m. in t...</td>\n",
              "      <td>A vehicle hit the couple around 9:30 p.m. in t...</td>\n",
              "      <td>1</td>\n",
              "    </tr>\n",
              "    <tr>\n",
              "      <th>4</th>\n",
              "      <td>https://www.houstonchronicle.com/news/houston-...</td>\n",
              "      <td>NEW YORK (AP) — Shares of Tesla jumped at the ...</td>\n",
              "      <td>NEW YORK (AP) — Shares of Tesla jumped at the ...</td>\n",
              "      <td>1</td>\n",
              "    </tr>\n",
              "    <tr>\n",
              "      <th>6</th>\n",
              "      <td>https://www.houstonchronicle.com/news/houston-...</td>\n",
              "      <td>Some of Houston's at-risk COVID patients feel ...</td>\n",
              "      <td>Some of Houston's at-risk COVID patients feel ...</td>\n",
              "      <td>1</td>\n",
              "    </tr>\n",
              "    <tr>\n",
              "      <th>10</th>\n",
              "      <td>https://www.houstonchronicle.com/news/houston-...</td>\n",
              "      <td>Fact check: Does Jackson have a record on defu...</td>\n",
              "      <td>Fact check: Does Jackson have a record on defu...</td>\n",
              "      <td>1</td>\n",
              "    </tr>\n",
              "    <tr>\n",
              "      <th>14</th>\n",
              "      <td>https://www.houstonchronicle.com/news/houston-...</td>\n",
              "      <td>The FBI started to investigate a tip on Jan. 1...</td>\n",
              "      <td>The FBI started to investigate a tip on Jan. 1...</td>\n",
              "      <td>1</td>\n",
              "    </tr>\n",
              "    <tr>\n",
              "      <th>29</th>\n",
              "      <td>https://preview.houstonchronicle.com/movies-tv...</td>\n",
              "      <td>Still from Richard Linklater's \"Apollo 10 1/2\"...</td>\n",
              "      <td>Still from Richard Linklater's \"Apollo 10 1/2\"...</td>\n",
              "      <td>1</td>\n",
              "    </tr>\n",
              "    <tr>\n",
              "      <th>30</th>\n",
              "      <td>https://preview.houstonchronicle.com/movies-tv...</td>\n",
              "      <td>FILE - An Oscar statue is pictured underneath ...</td>\n",
              "      <td>FILE - An Oscar statue is pictured underneath ...</td>\n",
              "      <td>1</td>\n",
              "    </tr>\n",
              "    <tr>\n",
              "      <th>31</th>\n",
              "      <td>https://preview.houstonchronicle.com/movies-tv...</td>\n",
              "      <td>An Oscar statue sparkles in sunlight on the re...</td>\n",
              "      <td>An Oscar statue sparkles in sunlight on the re...</td>\n",
              "      <td>1</td>\n",
              "    </tr>\n",
              "    <tr>\n",
              "      <th>44</th>\n",
              "      <td>https://preview.houstonchronicle.com/families/...</td>\n",
              "      <td>Two participants in the Heights Kids' Day of M...</td>\n",
              "      <td>Two participants in the Heights Kids' Day of M...</td>\n",
              "      <td>1</td>\n",
              "    </tr>\n",
              "    <tr>\n",
              "      <th>59</th>\n",
              "      <td>https://preview.houstonchronicle.com/music/aft...</td>\n",
              "      <td>Willie Nelson has canceled a Houston show afte...</td>\n",
              "      <td>Willie Nelson has canceled a Houston show afte...</td>\n",
              "      <td>1</td>\n",
              "    </tr>\n",
              "  </tbody>\n",
              "</table>\n",
              "</div>\n",
              "      <button class=\"colab-df-convert\" onclick=\"convertToInteractive('df-70fa40e0-f812-47ce-8bad-44a0911b6e2b')\"\n",
              "              title=\"Convert this dataframe to an interactive table.\"\n",
              "              style=\"display:none;\">\n",
              "        \n",
              "  <svg xmlns=\"http://www.w3.org/2000/svg\" height=\"24px\"viewBox=\"0 0 24 24\"\n",
              "       width=\"24px\">\n",
              "    <path d=\"M0 0h24v24H0V0z\" fill=\"none\"/>\n",
              "    <path d=\"M18.56 5.44l.94 2.06.94-2.06 2.06-.94-2.06-.94-.94-2.06-.94 2.06-2.06.94zm-11 1L8.5 8.5l.94-2.06 2.06-.94-2.06-.94L8.5 2.5l-.94 2.06-2.06.94zm10 10l.94 2.06.94-2.06 2.06-.94-2.06-.94-.94-2.06-.94 2.06-2.06.94z\"/><path d=\"M17.41 7.96l-1.37-1.37c-.4-.4-.92-.59-1.43-.59-.52 0-1.04.2-1.43.59L10.3 9.45l-7.72 7.72c-.78.78-.78 2.05 0 2.83L4 21.41c.39.39.9.59 1.41.59.51 0 1.02-.2 1.41-.59l7.78-7.78 2.81-2.81c.8-.78.8-2.07 0-2.86zM5.41 20L4 18.59l7.72-7.72 1.47 1.35L5.41 20z\"/>\n",
              "  </svg>\n",
              "      </button>\n",
              "      \n",
              "  <style>\n",
              "    .colab-df-container {\n",
              "      display:flex;\n",
              "      flex-wrap:wrap;\n",
              "      gap: 12px;\n",
              "    }\n",
              "\n",
              "    .colab-df-convert {\n",
              "      background-color: #E8F0FE;\n",
              "      border: none;\n",
              "      border-radius: 50%;\n",
              "      cursor: pointer;\n",
              "      display: none;\n",
              "      fill: #1967D2;\n",
              "      height: 32px;\n",
              "      padding: 0 0 0 0;\n",
              "      width: 32px;\n",
              "    }\n",
              "\n",
              "    .colab-df-convert:hover {\n",
              "      background-color: #E2EBFA;\n",
              "      box-shadow: 0px 1px 2px rgba(60, 64, 67, 0.3), 0px 1px 3px 1px rgba(60, 64, 67, 0.15);\n",
              "      fill: #174EA6;\n",
              "    }\n",
              "\n",
              "    [theme=dark] .colab-df-convert {\n",
              "      background-color: #3B4455;\n",
              "      fill: #D2E3FC;\n",
              "    }\n",
              "\n",
              "    [theme=dark] .colab-df-convert:hover {\n",
              "      background-color: #434B5C;\n",
              "      box-shadow: 0px 1px 3px 1px rgba(0, 0, 0, 0.15);\n",
              "      filter: drop-shadow(0px 1px 2px rgba(0, 0, 0, 0.3));\n",
              "      fill: #FFFFFF;\n",
              "    }\n",
              "  </style>\n",
              "\n",
              "      <script>\n",
              "        const buttonEl =\n",
              "          document.querySelector('#df-70fa40e0-f812-47ce-8bad-44a0911b6e2b button.colab-df-convert');\n",
              "        buttonEl.style.display =\n",
              "          google.colab.kernel.accessAllowed ? 'block' : 'none';\n",
              "\n",
              "        async function convertToInteractive(key) {\n",
              "          const element = document.querySelector('#df-70fa40e0-f812-47ce-8bad-44a0911b6e2b');\n",
              "          const dataTable =\n",
              "            await google.colab.kernel.invokeFunction('convertToInteractive',\n",
              "                                                     [key], {});\n",
              "          if (!dataTable) return;\n",
              "\n",
              "          const docLinkHtml = 'Like what you see? Visit the ' +\n",
              "            '<a target=\"_blank\" href=https://colab.research.google.com/notebooks/data_table.ipynb>data table notebook</a>'\n",
              "            + ' to learn more about interactive tables.';\n",
              "          element.innerHTML = '';\n",
              "          dataTable['output_type'] = 'display_data';\n",
              "          await google.colab.output.renderOutput(dataTable, element);\n",
              "          const docLink = document.createElement('div');\n",
              "          docLink.innerHTML = docLinkHtml;\n",
              "          element.appendChild(docLink);\n",
              "        }\n",
              "      </script>\n",
              "    </div>\n",
              "  </div>\n",
              "  "
            ]
          },
          "metadata": {},
          "execution_count": 28
        }
      ]
    },
    {
      "cell_type": "markdown",
      "source": [
        "Since we already have the summaries of the articles, we can drop the article texts themselves by dropping column 'articles'."
      ],
      "metadata": {
        "id": "ZW2sGuIKHvOP"
      }
    },
    {
      "cell_type": "code",
      "source": [
        "sent = sent.drop('articles', 1)"
      ],
      "metadata": {
        "id": "E9xfU3HzQb9K"
      },
      "execution_count": null,
      "outputs": []
    },
    {
      "cell_type": "code",
      "source": [
        "sent.shape"
      ],
      "metadata": {
        "id": "qDVvKDmFxmoB",
        "colab": {
          "base_uri": "https://localhost:8080/"
        },
        "outputId": "73981bef-08b2-41c6-f3bf-6af95e575035"
      },
      "execution_count": 30,
      "outputs": [
        {
          "output_type": "execute_result",
          "data": {
            "text/plain": [
              "(11, 3)"
            ]
          },
          "metadata": {},
          "execution_count": 30
        }
      ]
    },
    {
      "cell_type": "markdown",
      "source": [
        "Export the dataframe as a csv"
      ],
      "metadata": {
        "id": "Iz45LCWrIW6V"
      }
    },
    {
      "cell_type": "code",
      "source": [
        "sent.to_csv('houston_problem_scoping_dataset.csv', index=False) "
      ],
      "metadata": {
        "id": "IsXNN2BHIWSx"
      },
      "execution_count": 31,
      "outputs": []
    }
  ]
}